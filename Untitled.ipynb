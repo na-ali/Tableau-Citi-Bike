{
 "cells": [
  {
   "cell_type": "markdown",
   "id": "01288b4f-3a58-4924-b4b7-74c763929d27",
   "metadata": {},
   "source": [
    "**Cleaned Citi Bike Data**"
   ]
  },
  {
   "cell_type": "code",
   "execution_count": 29,
   "id": "a41ece25-8331-480e-8de7-5a4ca9f7b4fc",
   "metadata": {},
   "outputs": [],
   "source": [
    "import pandas as pd"
   ]
  },
  {
   "cell_type": "code",
   "execution_count": 30,
   "id": "2bfc22ee-6947-4a2f-94dd-e677c1a913c3",
   "metadata": {},
   "outputs": [
    {
     "data": {
      "text/plain": [
       "'Resourecs citibike data/cleaned_citi_bike_data_combined.csv'"
      ]
     },
     "execution_count": 30,
     "metadata": {},
     "output_type": "execute_result"
    }
   ],
   "source": [
    "# Reload the data with low_memory=False to suppress the DtypeWarning\n",
    "file_paths = ['Resourecs citibike data/2023_data.csv']\n",
    "\n",
    "# Initialize an empty list to store DataFrames\n",
    "dfs = []\n",
    "\n",
    "# Load each CSV file into a DataFrame and append to the list\n",
    "for file_path in file_paths:\n",
    "    df = pd.read_csv(file_path, low_memory=False)\n",
    "    dfs.append(df)\n",
    "\n",
    "# Concatenate all DataFrames into a single DataFrame\n",
    "data_combined = pd.concat(dfs, ignore_index=True)\n",
    "\n",
    "# Convert date columns to datetime format with error handling\n",
    "data_combined['started_at'] = pd.to_datetime(data_combined['started_at'], errors='coerce')\n",
    "data_combined['ended_at'] = pd.to_datetime(data_combined['ended_at'], errors='coerce')\n",
    "\n",
    "# Drop rows with NaT in date columns\n",
    "data_combined = data_combined.dropna(subset=['started_at', 'ended_at'])\n",
    "\n",
    "# Calculate trip duration in minutes\n",
    "data_combined['trip_duration'] = (data_combined['ended_at'] - data_combined['started_at']).dt.total_seconds() / 60\n",
    "\n",
    "# Extract day, month, year, and hour\n",
    "data_combined['start_day'] = data_combined['started_at'].dt.day\n",
    "data_combined['start_month'] = data_combined['started_at'].dt.month\n",
    "data_combined['start_year'] = data_combined['started_at'].dt.year\n",
    "data_combined['start_hour'] = data_combined['started_at'].dt.hour\n",
    "\n",
    "# Display cleaned data\n",
    "data_combined.head()\n",
    "\n",
    "# Save the combined and cleaned DataFrame to a CSV file\n",
    "cleaned_file_path = 'Resourecs citibike data/cleaned_citi_bike_data_combined.csv'\n",
    "data_combined.to_csv(cleaned_file_path, index=False)\n",
    "\n",
    "cleaned_file_path"
   ]
  },
  {
   "cell_type": "code",
   "execution_count": 33,
   "id": "bc1bf3af-f4f2-49df-9c11-286dfeaa2b2c",
   "metadata": {},
   "outputs": [
    {
     "data": {
      "text/plain": [
       "'Resourecs citibike data/cleaned_citi_bike_data_combined.csv'"
      ]
     },
     "execution_count": 33,
     "metadata": {},
     "output_type": "execute_result"
    }
   ],
   "source": [
    "# Calculate trip duration in minutes (if not already calculated)\n",
    "cleaned_data['trip_duration'] = (pd.to_datetime(cleaned_data['ended_at']) - pd.to_datetime(cleaned_data['started_at'])).dt.total_seconds() / 60\n",
    "\n",
    "# Filter out negative and extremely high values in trip duration\n",
    "cleaned_data = cleaned_data[(cleaned_data['trip_duration'] > 0) & (cleaned_data['trip_duration'] <= 120)]\n"
   ]
  },
  {
   "cell_type": "code",
   "execution_count": 35,
   "id": "5079d1ab-7246-4358-95ae-088a153aaca7",
   "metadata": {},
   "outputs": [
    {
     "data": {
      "text/plain": [
       "'Resourecs citibike data/cleaned_citi_bike_data_combined.csv'"
      ]
     },
     "execution_count": 35,
     "metadata": {},
     "output_type": "execute_result"
    }
   ],
   "source": [
    "import pandas as pd\n",
    "import numpy as np\n",
    "\n",
    "# Define a function to calculate distance using the Haversine formula\n",
    "def haversine(lat1, lon1, lat2, lon2):\n",
    "    # Convert latitude and longitude from degrees to radians\n",
    "    lat1, lon1, lat2, lon2 = map(np.radians, [lat1, lon1, lat2, lon2])\n",
    "    \n",
    "    # Haversine formula\n",
    "    dlat = lat2 - lat1 \n",
    "    dlon = lon2 - lon1 \n",
    "    a = np.sin(dlat/2)**2 + np.cos(lat1) * np.cos(lat2) * np.sin(dlon/2)**2\n",
    "    c = 2 * np.arctan2(np.sqrt(a), np.sqrt(1-a)) \n",
    "    r = 3956  # Radius of Earth in miles. Use 6371 for kilometers\n",
    "    return c * r\n",
    "\n",
    "# Apply the function to calculate distance\n",
    "cleaned_data['distance_miles'] = cleaned_data.apply(lambda row: haversine(row['start_lat'], row['start_lng'], row['end_lat'], row['end_lng']), axis=1)\n",
    "\n",
    "# Save the cleaned data to a new CSV file\n",
    "cleaned_file_path = 'Resourecs citibike data/cleaned_citi_bike_data_combined.csv'\n",
    "cleaned_data.to_csv(cleaned_file_path, index=False)\n",
    "\n",
    "cleaned_file_path\n"
   ]
  },
  {
   "cell_type": "code",
   "execution_count": null,
   "id": "5276cec0-74a2-4339-b8d2-0a945c6ebee4",
   "metadata": {},
   "outputs": [],
   "source": []
  }
 ],
 "metadata": {
  "kernelspec": {
   "display_name": "dev",
   "language": "python",
   "name": "dev"
  },
  "language_info": {
   "codemirror_mode": {
    "name": "ipython",
    "version": 3
   },
   "file_extension": ".py",
   "mimetype": "text/x-python",
   "name": "python",
   "nbconvert_exporter": "python",
   "pygments_lexer": "ipython3",
   "version": "3.10.13"
  }
 },
 "nbformat": 4,
 "nbformat_minor": 5
}
